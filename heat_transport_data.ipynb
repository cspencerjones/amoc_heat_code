{
 "cells": [
  {
   "cell_type": "code",
   "execution_count": 1,
   "id": "silent-ceremony",
   "metadata": {},
   "outputs": [
    {
     "ename": "KeyboardInterrupt",
     "evalue": "",
     "output_type": "error",
     "traceback": [
      "\u001b[0;31m---------------------------------------------------------------------------\u001b[0m",
      "\u001b[0;31mKeyboardInterrupt\u001b[0m                         Traceback (most recent call last)",
      "Cell \u001b[0;32mIn[1], line 6\u001b[0m\n\u001b[1;32m      3\u001b[0m \u001b[38;5;28;01mfrom\u001b[39;00m \u001b[38;5;21;01mdask\u001b[39;00m\u001b[38;5;21;01m.\u001b[39;00m\u001b[38;5;21;01mdistributed\u001b[39;00m \u001b[38;5;28;01mimport\u001b[39;00m Client\n\u001b[1;32m      5\u001b[0m gateway \u001b[38;5;241m=\u001b[39m Gateway()\n\u001b[0;32m----> 6\u001b[0m cluster \u001b[38;5;241m=\u001b[39m \u001b[43mgateway\u001b[49m\u001b[38;5;241;43m.\u001b[39;49m\u001b[43mnew_cluster\u001b[49m\u001b[43m(\u001b[49m\u001b[43m)\u001b[49m\n\u001b[1;32m      8\u001b[0m cluster\u001b[38;5;241m.\u001b[39mscale(\u001b[38;5;241m20\u001b[39m)\n\u001b[1;32m      9\u001b[0m cluster\n",
      "File \u001b[0;32m/srv/conda/envs/notebook/lib/python3.10/site-packages/dask_gateway/client.py:641\u001b[0m, in \u001b[0;36mGateway.new_cluster\u001b[0;34m(self, cluster_options, shutdown_on_close, **kwargs)\u001b[0m\n\u001b[1;32m    618\u001b[0m \u001b[38;5;28;01mdef\u001b[39;00m \u001b[38;5;21mnew_cluster\u001b[39m(\u001b[38;5;28mself\u001b[39m, cluster_options\u001b[38;5;241m=\u001b[39m\u001b[38;5;28;01mNone\u001b[39;00m, shutdown_on_close\u001b[38;5;241m=\u001b[39m\u001b[38;5;28;01mTrue\u001b[39;00m, \u001b[38;5;241m*\u001b[39m\u001b[38;5;241m*\u001b[39mkwargs):\n\u001b[1;32m    619\u001b[0m \u001b[38;5;250m    \u001b[39m\u001b[38;5;124;03m\"\"\"Submit a new cluster to the gateway, and wait for it to be started.\u001b[39;00m\n\u001b[1;32m    620\u001b[0m \n\u001b[1;32m    621\u001b[0m \u001b[38;5;124;03m    Same as calling ``submit`` and ``connect`` in one go.\u001b[39;00m\n\u001b[0;32m   (...)\u001b[0m\n\u001b[1;32m    639\u001b[0m \u001b[38;5;124;03m    cluster : GatewayCluster\u001b[39;00m\n\u001b[1;32m    640\u001b[0m \u001b[38;5;124;03m    \"\"\"\u001b[39;00m\n\u001b[0;32m--> 641\u001b[0m     \u001b[38;5;28;01mreturn\u001b[39;00m \u001b[43mGatewayCluster\u001b[49m\u001b[43m(\u001b[49m\n\u001b[1;32m    642\u001b[0m \u001b[43m        \u001b[49m\u001b[43maddress\u001b[49m\u001b[38;5;241;43m=\u001b[39;49m\u001b[38;5;28;43mself\u001b[39;49m\u001b[38;5;241;43m.\u001b[39;49m\u001b[43maddress\u001b[49m\u001b[43m,\u001b[49m\n\u001b[1;32m    643\u001b[0m \u001b[43m        \u001b[49m\u001b[43mproxy_address\u001b[49m\u001b[38;5;241;43m=\u001b[39;49m\u001b[38;5;28;43mself\u001b[39;49m\u001b[38;5;241;43m.\u001b[39;49m\u001b[43mproxy_address\u001b[49m\u001b[43m,\u001b[49m\n\u001b[1;32m    644\u001b[0m \u001b[43m        \u001b[49m\u001b[43mpublic_address\u001b[49m\u001b[38;5;241;43m=\u001b[39;49m\u001b[38;5;28;43mself\u001b[39;49m\u001b[38;5;241;43m.\u001b[39;49m\u001b[43m_public_address\u001b[49m\u001b[43m,\u001b[49m\n\u001b[1;32m    645\u001b[0m \u001b[43m        \u001b[49m\u001b[43mauth\u001b[49m\u001b[38;5;241;43m=\u001b[39;49m\u001b[38;5;28;43mself\u001b[39;49m\u001b[38;5;241;43m.\u001b[39;49m\u001b[43mauth\u001b[49m\u001b[43m,\u001b[49m\n\u001b[1;32m    646\u001b[0m \u001b[43m        \u001b[49m\u001b[43masynchronous\u001b[49m\u001b[38;5;241;43m=\u001b[39;49m\u001b[38;5;28;43mself\u001b[39;49m\u001b[38;5;241;43m.\u001b[39;49m\u001b[43masynchronous\u001b[49m\u001b[43m,\u001b[49m\n\u001b[1;32m    647\u001b[0m \u001b[43m        \u001b[49m\u001b[43mloop\u001b[49m\u001b[38;5;241;43m=\u001b[39;49m\u001b[38;5;28;43mself\u001b[39;49m\u001b[38;5;241;43m.\u001b[39;49m\u001b[43mloop\u001b[49m\u001b[43m,\u001b[49m\n\u001b[1;32m    648\u001b[0m \u001b[43m        \u001b[49m\u001b[43mcluster_options\u001b[49m\u001b[38;5;241;43m=\u001b[39;49m\u001b[43mcluster_options\u001b[49m\u001b[43m,\u001b[49m\n\u001b[1;32m    649\u001b[0m \u001b[43m        \u001b[49m\u001b[43mshutdown_on_close\u001b[49m\u001b[38;5;241;43m=\u001b[39;49m\u001b[43mshutdown_on_close\u001b[49m\u001b[43m,\u001b[49m\n\u001b[1;32m    650\u001b[0m \u001b[43m        \u001b[49m\u001b[38;5;241;43m*\u001b[39;49m\u001b[38;5;241;43m*\u001b[39;49m\u001b[43mkwargs\u001b[49m\u001b[43m,\u001b[49m\n\u001b[1;32m    651\u001b[0m \u001b[43m    \u001b[49m\u001b[43m)\u001b[49m\n",
      "File \u001b[0;32m/srv/conda/envs/notebook/lib/python3.10/site-packages/dask_gateway/client.py:816\u001b[0m, in \u001b[0;36mGatewayCluster.__init__\u001b[0;34m(self, address, proxy_address, public_address, auth, cluster_options, shutdown_on_close, asynchronous, loop, **kwargs)\u001b[0m\n\u001b[1;32m    804\u001b[0m \u001b[38;5;28;01mdef\u001b[39;00m \u001b[38;5;21m__init__\u001b[39m(\n\u001b[1;32m    805\u001b[0m     \u001b[38;5;28mself\u001b[39m,\n\u001b[1;32m    806\u001b[0m     address\u001b[38;5;241m=\u001b[39m\u001b[38;5;28;01mNone\u001b[39;00m,\n\u001b[0;32m   (...)\u001b[0m\n\u001b[1;32m    814\u001b[0m     \u001b[38;5;241m*\u001b[39m\u001b[38;5;241m*\u001b[39mkwargs,\n\u001b[1;32m    815\u001b[0m ):\n\u001b[0;32m--> 816\u001b[0m     \u001b[38;5;28;43mself\u001b[39;49m\u001b[38;5;241;43m.\u001b[39;49m\u001b[43m_init_internal\u001b[49m\u001b[43m(\u001b[49m\n\u001b[1;32m    817\u001b[0m \u001b[43m        \u001b[49m\u001b[43maddress\u001b[49m\u001b[38;5;241;43m=\u001b[39;49m\u001b[43maddress\u001b[49m\u001b[43m,\u001b[49m\n\u001b[1;32m    818\u001b[0m \u001b[43m        \u001b[49m\u001b[43mproxy_address\u001b[49m\u001b[38;5;241;43m=\u001b[39;49m\u001b[43mproxy_address\u001b[49m\u001b[43m,\u001b[49m\n\u001b[1;32m    819\u001b[0m \u001b[43m        \u001b[49m\u001b[43mpublic_address\u001b[49m\u001b[38;5;241;43m=\u001b[39;49m\u001b[43mpublic_address\u001b[49m\u001b[43m,\u001b[49m\n\u001b[1;32m    820\u001b[0m \u001b[43m        \u001b[49m\u001b[43mauth\u001b[49m\u001b[38;5;241;43m=\u001b[39;49m\u001b[43mauth\u001b[49m\u001b[43m,\u001b[49m\n\u001b[1;32m    821\u001b[0m \u001b[43m        \u001b[49m\u001b[43mcluster_options\u001b[49m\u001b[38;5;241;43m=\u001b[39;49m\u001b[43mcluster_options\u001b[49m\u001b[43m,\u001b[49m\n\u001b[1;32m    822\u001b[0m \u001b[43m        \u001b[49m\u001b[43mcluster_kwargs\u001b[49m\u001b[38;5;241;43m=\u001b[39;49m\u001b[43mkwargs\u001b[49m\u001b[43m,\u001b[49m\n\u001b[1;32m    823\u001b[0m \u001b[43m        \u001b[49m\u001b[43mshutdown_on_close\u001b[49m\u001b[38;5;241;43m=\u001b[39;49m\u001b[43mshutdown_on_close\u001b[49m\u001b[43m,\u001b[49m\n\u001b[1;32m    824\u001b[0m \u001b[43m        \u001b[49m\u001b[43masynchronous\u001b[49m\u001b[38;5;241;43m=\u001b[39;49m\u001b[43masynchronous\u001b[49m\u001b[43m,\u001b[49m\n\u001b[1;32m    825\u001b[0m \u001b[43m        \u001b[49m\u001b[43mloop\u001b[49m\u001b[38;5;241;43m=\u001b[39;49m\u001b[43mloop\u001b[49m\u001b[43m,\u001b[49m\n\u001b[1;32m    826\u001b[0m \u001b[43m    \u001b[49m\u001b[43m)\u001b[49m\n",
      "File \u001b[0;32m/srv/conda/envs/notebook/lib/python3.10/site-packages/dask_gateway/client.py:921\u001b[0m, in \u001b[0;36mGatewayCluster._init_internal\u001b[0;34m(self, address, proxy_address, public_address, auth, cluster_options, cluster_kwargs, shutdown_on_close, asynchronous, loop, name)\u001b[0m\n\u001b[1;32m    919\u001b[0m     \u001b[38;5;28mself\u001b[39m\u001b[38;5;241m.\u001b[39mstatus \u001b[38;5;241m=\u001b[39m \u001b[38;5;124m\"\u001b[39m\u001b[38;5;124mstarting\u001b[39m\u001b[38;5;124m\"\u001b[39m\n\u001b[1;32m    920\u001b[0m \u001b[38;5;28;01mif\u001b[39;00m \u001b[38;5;129;01mnot\u001b[39;00m \u001b[38;5;28mself\u001b[39m\u001b[38;5;241m.\u001b[39masynchronous:\n\u001b[0;32m--> 921\u001b[0m     \u001b[38;5;28;43mself\u001b[39;49m\u001b[38;5;241;43m.\u001b[39;49m\u001b[43mgateway\u001b[49m\u001b[38;5;241;43m.\u001b[39;49m\u001b[43msync\u001b[49m\u001b[43m(\u001b[49m\u001b[38;5;28;43mself\u001b[39;49m\u001b[38;5;241;43m.\u001b[39;49m\u001b[43m_start_internal\u001b[49m\u001b[43m)\u001b[49m\n",
      "File \u001b[0;32m/srv/conda/envs/notebook/lib/python3.10/site-packages/dask_gateway/client.py:344\u001b[0m, in \u001b[0;36mGateway.sync\u001b[0;34m(self, func, *args, **kwargs)\u001b[0m\n\u001b[1;32m    340\u001b[0m future \u001b[38;5;241m=\u001b[39m asyncio\u001b[38;5;241m.\u001b[39mrun_coroutine_threadsafe(\n\u001b[1;32m    341\u001b[0m     func(\u001b[38;5;241m*\u001b[39margs, \u001b[38;5;241m*\u001b[39m\u001b[38;5;241m*\u001b[39mkwargs), \u001b[38;5;28mself\u001b[39m\u001b[38;5;241m.\u001b[39mloop\u001b[38;5;241m.\u001b[39masyncio_loop\n\u001b[1;32m    342\u001b[0m )\n\u001b[1;32m    343\u001b[0m \u001b[38;5;28;01mtry\u001b[39;00m:\n\u001b[0;32m--> 344\u001b[0m     \u001b[38;5;28;01mreturn\u001b[39;00m \u001b[43mfuture\u001b[49m\u001b[38;5;241;43m.\u001b[39;49m\u001b[43mresult\u001b[49m\u001b[43m(\u001b[49m\u001b[43m)\u001b[49m\n\u001b[1;32m    345\u001b[0m \u001b[38;5;28;01mexcept\u001b[39;00m \u001b[38;5;167;01mBaseException\u001b[39;00m:\n\u001b[1;32m    346\u001b[0m     future\u001b[38;5;241m.\u001b[39mcancel()\n",
      "File \u001b[0;32m/srv/conda/envs/notebook/lib/python3.10/concurrent/futures/_base.py:453\u001b[0m, in \u001b[0;36mFuture.result\u001b[0;34m(self, timeout)\u001b[0m\n\u001b[1;32m    450\u001b[0m \u001b[38;5;28;01melif\u001b[39;00m \u001b[38;5;28mself\u001b[39m\u001b[38;5;241m.\u001b[39m_state \u001b[38;5;241m==\u001b[39m FINISHED:\n\u001b[1;32m    451\u001b[0m     \u001b[38;5;28;01mreturn\u001b[39;00m \u001b[38;5;28mself\u001b[39m\u001b[38;5;241m.\u001b[39m__get_result()\n\u001b[0;32m--> 453\u001b[0m \u001b[38;5;28;43mself\u001b[39;49m\u001b[38;5;241;43m.\u001b[39;49m\u001b[43m_condition\u001b[49m\u001b[38;5;241;43m.\u001b[39;49m\u001b[43mwait\u001b[49m\u001b[43m(\u001b[49m\u001b[43mtimeout\u001b[49m\u001b[43m)\u001b[49m\n\u001b[1;32m    455\u001b[0m \u001b[38;5;28;01mif\u001b[39;00m \u001b[38;5;28mself\u001b[39m\u001b[38;5;241m.\u001b[39m_state \u001b[38;5;129;01min\u001b[39;00m [CANCELLED, CANCELLED_AND_NOTIFIED]:\n\u001b[1;32m    456\u001b[0m     \u001b[38;5;28;01mraise\u001b[39;00m CancelledError()\n",
      "File \u001b[0;32m/srv/conda/envs/notebook/lib/python3.10/threading.py:320\u001b[0m, in \u001b[0;36mCondition.wait\u001b[0;34m(self, timeout)\u001b[0m\n\u001b[1;32m    318\u001b[0m \u001b[38;5;28;01mtry\u001b[39;00m:    \u001b[38;5;66;03m# restore state no matter what (e.g., KeyboardInterrupt)\u001b[39;00m\n\u001b[1;32m    319\u001b[0m     \u001b[38;5;28;01mif\u001b[39;00m timeout \u001b[38;5;129;01mis\u001b[39;00m \u001b[38;5;28;01mNone\u001b[39;00m:\n\u001b[0;32m--> 320\u001b[0m         \u001b[43mwaiter\u001b[49m\u001b[38;5;241;43m.\u001b[39;49m\u001b[43macquire\u001b[49m\u001b[43m(\u001b[49m\u001b[43m)\u001b[49m\n\u001b[1;32m    321\u001b[0m         gotit \u001b[38;5;241m=\u001b[39m \u001b[38;5;28;01mTrue\u001b[39;00m\n\u001b[1;32m    322\u001b[0m     \u001b[38;5;28;01melse\u001b[39;00m:\n",
      "\u001b[0;31mKeyboardInterrupt\u001b[0m: "
     ]
    }
   ],
   "source": [
    "# Set up a cluster using dask\n",
    "from dask_gateway import Gateway\n",
    "from dask.distributed import Client\n",
    "\n",
    "gateway = Gateway()\n",
    "cluster = gateway.new_cluster()\n",
    "\n",
    "cluster.scale(20)\n",
    "cluster"
   ]
  },
  {
   "cell_type": "code",
   "execution_count": null,
   "id": "alternative-concentrate",
   "metadata": {},
   "outputs": [],
   "source": [
    "#Make a client so you can see the progress of tasks (click the link that appears below)\n",
    "client = Client(cluster)\n",
    "client"
   ]
  },
  {
   "cell_type": "code",
   "execution_count": null,
   "id": "defined-bones",
   "metadata": {},
   "outputs": [],
   "source": [
    "import intake\n",
    "import pandas as pd\n",
    "import pprint\n",
    "import fsspec\n",
    "\n",
    "import numpy as np\n",
    "import xarray as xr\n",
    "import xgcm\n",
    "import xesmf as xe\n",
    "import s3fs\n",
    "\n",
    "import matplotlib.pyplot as plt\n",
    "%matplotlib inline\n",
    "\n",
    "from fastjmd95 import jmd95numba"
   ]
  },
  {
   "cell_type": "code",
   "execution_count": null,
   "id": "atomic-pastor",
   "metadata": {},
   "outputs": [],
   "source": [
    "col = intake.open_esm_datastore(\n",
    "    \"https://raw.githubusercontent.com/NCAR/cesm-lens-aws/main/intake-catalogs/aws-cesm1-le.json\")\n",
    "col_subset = col.search(experiment=\"20C\",variable=[\"TEMP\", \"SALT\",\"UVEL\",\"VVEL\",\"WVEL\",\"SHF\",\"VNT\",\"WTT\"])\n",
    "#col_subset = col.search(experiment=\"20C\",variable=[\"TEMP\"])\n",
    "dsets = col_subset.to_dataset_dict(zarr_kwargs={\"consolidated\": True}, storage_options={\"anon\": True})"
   ]
  },
  {
   "cell_type": "code",
   "execution_count": null,
   "id": "boring-footwear",
   "metadata": {},
   "outputs": [],
   "source": [
    "ds = dsets['ocn.20C.monthly']\n",
    "theta = ds.TEMP\n",
    "salt = ds.SALT\n",
    "uvel = ds.UVEL\n",
    "vvel = ds.VVEL\n",
    "wvel = ds.WVEL\n",
    "vnt = ds.VNT\n",
    "wtt = ds.WTT\n",
    "\n",
    "shf = ds.SHF\n",
    "\n",
    "url = \"s3://ncar-cesm-lens/ocn/static/grid.zarr\"\n",
    "fs = s3fs.S3FileSystem(anon=True)\n",
    "grid_ds = xr.open_zarr(s3fs.S3Map(url, s3=fs))"
   ]
  },
  {
   "cell_type": "code",
   "execution_count": null,
   "id": "individual-conservative",
   "metadata": {},
   "outputs": [],
   "source": [
    "th0 = theta.roll(nlon=60).sel(nlon=slice(0,120))\n",
    "slt0 = salt.roll(nlon=60).sel(nlon=slice(0,120))\n",
    "uvel0 = uvel.roll(nlon=60).sel(nlon=slice(0,120))\n",
    "vel0 = vvel.roll(nlon=60).sel(nlon=slice(0,120))\n",
    "wvel0 = wvel.roll(nlon=60).sel(nlon=slice(0,120))\n",
    "#vnt0 = vnt.roll(nlon=60)\n",
    "#wtt0 = wtt.roll(nlon=60)\n",
    "shf0 = shf.roll(nlon=60).sel(nlon=slice(0,120))\n",
    "grid0 = grid_ds.roll(nlon=60,roll_coords=True).sel(nlon=slice(0,120))\n",
    "\n",
    "uvel0=uvel0.rename({'nlon':'vlon','nlat':'vlat'})\n",
    "vel0=vel0.rename({'nlon':'vlon','nlat':'vlat'})"
   ]
  },
  {
   "cell_type": "code",
   "execution_count": null,
   "id": "overall-horizon",
   "metadata": {},
   "outputs": [],
   "source": [
    "atl_mask = grid0.REGION_MASK\n",
    "atl_mask = atl_mask.where((atl_mask==6) | (atl_mask==8)| (atl_mask==-12))\n",
    "atl_mask = atl_mask.where(np.isnan(atl_mask),1)\n",
    "atl_mask = atl_mask.where(atl_mask.nlon>5)\n",
    "atl_mask = atl_mask.where(atl_mask.nlon<111)\n",
    "atl_mask = atl_mask.where((atl_mask.nlon<108) | (atl_mask.nlat>331))"
   ]
  },
  {
   "cell_type": "code",
   "execution_count": null,
   "id": "demanding-hierarchy",
   "metadata": {},
   "outputs": [],
   "source": [
    "#create grid object\n",
    "\n",
    "#first merge v and w \n",
    "\n",
    "ds = vel0.to_dataset().merge(wvel0)\n",
    "ds = ds.merge(th0)\n",
    "ds = ds.merge(uvel0)\n",
    "ds = ds.merge(grid0.DXU.rename({'nlon':'vlon','nlat':'vlat'}).rename('gridS'))\n",
    "ds = ds.merge(grid0.DYU.rename({'nlon':'vlon','nlat':'vlat'}).rename('gridW'))\n",
    "z_outer = np.concatenate((ds.z_w_top.values,np.asarray(550000).reshape((-1,))))\n",
    "ds = ds.assign_coords(z_w_outer=z_outer)\n",
    "\n",
    "from xgcm.autogenerate import generate_grid_ds\n",
    "from xgcm import Grid\n",
    "\n",
    "grid = Grid(ds, coords={'X':{'center': 'nlon','right': 'vlon'},'Y':{'center': 'nlat','right': 'vlat'},'Z': {'center': 'z_t','outer': 'z_w_outer'}},periodic=False)\n",
    "\n",
    "#calculate dz\n",
    "dz = grid0.dz#grid.diff(ds.z_w_outer,axis='Z',boundary='extend')"
   ]
  },
  {
   "cell_type": "code",
   "execution_count": null,
   "id": "beautiful-brother",
   "metadata": {},
   "outputs": [],
   "source": [
    "vs = grid.interp(ds.VVEL*ds.gridS,'X',boundary='fill')\n",
    "ts = grid.interp(ds.TEMP,'Y',boundary='fill')\n",
    "\n",
    "vw = grid.interp(ds.UVEL*ds.gridW,'Y',boundary='fill')\n",
    "tw = grid.interp(ds.TEMP,'X',boundary='fill')\n",
    "deltaxS = grid.interp(ds.gridS,'X',boundary='fill')\n",
    "deltayW = grid.interp(grid.interp(ds.gridW,'Y',boundary='fill'),'X',boundary='fill')\n",
    "maskS = atl_mask.rename({'nlat':'vlat'})"
   ]
  },
  {
   "cell_type": "code",
   "execution_count": null,
   "id": "aging-rotation",
   "metadata": {},
   "outputs": [],
   "source": [
    "mid=slice(1,37)\n",
    "timeslice = slice('1940-01-01','2016-02-01')\n",
    "df = pd.DataFrame({'date1':pd.date_range('1941-01-01','1941-12-01',freq='MS'),\n",
    "                   'date2':pd.date_range('1941-02-01','1942-01-01', freq='MS')})\n",
    "df['diff'] = df['date2']-df['date1']\n",
    "dt = df['diff'].dt.total_seconds().to_numpy()\n",
    "ds_dt = xr.DataArray(np.repeat(dt,66),coords={'time':ds.TEMP.sel(time=timeslice).time.values},dims=['time'])"
   ]
  },
  {
   "cell_type": "code",
   "execution_count": 11,
   "id": "still-friend",
   "metadata": {},
   "outputs": [],
   "source": [
    "#heat transport\n",
    "heat_transport = vs*ts"
   ]
  },
  {
   "cell_type": "code",
   "execution_count": 15,
   "id": "accepted-fleece",
   "metadata": {},
   "outputs": [
    {
     "name": "stderr",
     "output_type": "stream",
     "text": [
      "2023-04-21 16:47:03,732 - distributed.client - WARNING - Couldn't gather 2 keys, rescheduling {\"('truediv-09793d9f49273f04485cc0c70d160924', 29, 11)\": (), \"('truediv-09793d9f49273f04485cc0c70d160924', 29, 10)\": ()}\n"
     ]
    }
   ],
   "source": [
    "ht_42 = ((heat_transport*dz*maskS/100**3).sel(member_id=mid,time=timeslice\n",
    "                                                                  )).sel(vlat=298).sum(['nlon','z_t']).rolling(time=24).mean().load().dropna(\"time\",how='all')\n",
    "ht_42_towrite = ht_42.to_dataset(name='ht_42').load()\n",
    "ht_42_towrite.to_netcdf('/home/jovyan/amoc_heat_transport/ht_42.nc')"
   ]
  },
  {
   "cell_type": "code",
   "execution_count": 12,
   "id": "49e5ef32-6a5b-4df5-a4e1-1c2dfb2488dd",
   "metadata": {},
   "outputs": [],
   "source": [
    "ht_34 = ((heat_transport*dz*maskS/100**3).sel(member_id=mid,time=timeslice\n",
    "                                                                  )).sel(vlat=286).sum(['nlon','z_t']).rolling(time=24).mean().load().dropna(\"time\",how='all')\n",
    "ht_34_towrite = ht_34.to_dataset(name='ht_34').load()\n",
    "ht_34_towrite.to_netcdf('/home/jovyan/amoc_heat_transport/ht_34.nc')"
   ]
  },
  {
   "cell_type": "code",
   "execution_count": 20,
   "id": "lasting-component",
   "metadata": {},
   "outputs": [],
   "source": [
    "ht_26 = ((heat_transport*dz*maskS/100**3).sel(member_id=mid,time=timeslice\n",
    "                                                                  )).sel(nlon=slice(22,120)).sel(vlat=270).sum(['nlon','z_t']).rolling(time=24).mean().dropna(\"time\",how='all').load()\n",
    "\n",
    "ht_26_towrite = ht_26.to_dataset(name='ht_26').load()\n",
    "ht_26_towrite.to_netcdf('/home/jovyan/amoc_heat_transport/ht_26.nc')"
   ]
  },
  {
   "cell_type": "code",
   "execution_count": 21,
   "id": "binary-bridal",
   "metadata": {},
   "outputs": [],
   "source": [
    "ht_5S = ((heat_transport*dz*maskS/100**3).sel(member_id=mid,time=timeslice\n",
    "                                                                  )).sel(nlon=slice(30,120)).sel(vlat=163).sum(['nlon','z_t']).rolling(time=24).mean().dropna(\"time\",how='all').load()\n",
    "ht_5S_towrite = ht_5S.to_dataset(name='ht_5S').load()\n",
    "ht_5S_towrite.to_netcdf('/home/jovyan/amoc_heat_transport/ht_5S.nc')"
   ]
  },
  {
   "cell_type": "code",
   "execution_count": 13,
   "id": "frequent-champagne",
   "metadata": {},
   "outputs": [
    {
     "name": "stderr",
     "output_type": "stream",
     "text": [
      "2023-06-21 17:48:51,534 - distributed.client - ERROR - Failed to reconnect to scheduler after 30.00 seconds, closing client\n",
      "Exception in callback None()\n",
      "handle: <Handle cancelled>\n",
      "Traceback (most recent call last):\n",
      "  File \"/srv/conda/envs/notebook/lib/python3.10/site-packages/tornado/iostream.py\", line 1389, in _do_ssl_handshake\n",
      "    self.socket.do_handshake()\n",
      "  File \"/srv/conda/envs/notebook/lib/python3.10/ssl.py\", line 1342, in do_handshake\n",
      "    self._sslobj.do_handshake()\n",
      "ssl.SSLZeroReturnError: TLS/SSL connection has been closed (EOF) (_ssl.c:997)\n",
      "\n",
      "During handling of the above exception, another exception occurred:\n",
      "\n",
      "Traceback (most recent call last):\n",
      "  File \"/srv/conda/envs/notebook/lib/python3.10/asyncio/events.py\", line 80, in _run\n",
      "    self._context.run(self._callback, *self._args)\n",
      "  File \"/srv/conda/envs/notebook/lib/python3.10/site-packages/tornado/platform/asyncio.py\", line 206, in _handle_events\n",
      "    handler_func(fileobj, events)\n",
      "  File \"/srv/conda/envs/notebook/lib/python3.10/site-packages/tornado/iostream.py\", line 698, in _handle_events\n",
      "    self._handle_read()\n",
      "  File \"/srv/conda/envs/notebook/lib/python3.10/site-packages/tornado/iostream.py\", line 1476, in _handle_read\n",
      "    self._do_ssl_handshake()\n",
      "  File \"/srv/conda/envs/notebook/lib/python3.10/site-packages/tornado/iostream.py\", line 1398, in _do_ssl_handshake\n",
      "    return self.close(exc_info=err)\n",
      "  File \"/srv/conda/envs/notebook/lib/python3.10/site-packages/tornado/iostream.py\", line 613, in close\n",
      "    self._signal_closed()\n",
      "  File \"/srv/conda/envs/notebook/lib/python3.10/site-packages/tornado/iostream.py\", line 643, in _signal_closed\n",
      "    self._ssl_connect_future.exception()\n",
      "asyncio.exceptions.CancelledError\n"
     ]
    }
   ],
   "source": [
    "cluster.shutdown()"
   ]
  },
  {
   "cell_type": "code",
   "execution_count": null,
   "id": "leading-intellectual",
   "metadata": {},
   "outputs": [],
   "source": []
  }
 ],
 "metadata": {
  "kernelspec": {
   "display_name": "Python 3 (ipykernel)",
   "language": "python",
   "name": "python3"
  },
  "language_info": {
   "codemirror_mode": {
    "name": "ipython",
    "version": 3
   },
   "file_extension": ".py",
   "mimetype": "text/x-python",
   "name": "python",
   "nbconvert_exporter": "python",
   "pygments_lexer": "ipython3",
   "version": "3.10.8"
  }
 },
 "nbformat": 4,
 "nbformat_minor": 5
}
